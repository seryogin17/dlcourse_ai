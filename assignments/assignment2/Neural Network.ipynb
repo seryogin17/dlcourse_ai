{
 "cells": [
  {
   "cell_type": "markdown",
   "metadata": {},
   "source": [
    "# Задание 2.1 - Нейронные сети\n",
    "\n",
    "В этом задании вы реализуете и натренируете настоящую нейроную сеть своими руками!\n",
    "\n",
    "В некотором смысле это будет расширением прошлого задания - нам нужно просто составить несколько линейных классификаторов вместе!\n",
    "\n",
    "<img src=\"https://i.redd.it/n9fgba8b0qr01.png\" alt=\"Stack_more_layers\" width=\"400px\"/>"
   ]
  },
  {
   "cell_type": "code",
   "execution_count": 1,
   "metadata": {},
   "outputs": [],
   "source": [
    "import numpy as np\n",
    "import matplotlib.pyplot as plt\n",
    "\n",
    "%matplotlib inline\n",
    "\n",
    "%load_ext autoreload\n",
    "%autoreload 2"
   ]
  },
  {
   "cell_type": "code",
   "execution_count": 2,
   "metadata": {},
   "outputs": [],
   "source": [
    "from dataset import load_svhn, random_split_train_val\n",
    "from gradient_check import check_layer_gradient, check_layer_param_gradient, check_model_gradient\n",
    "from layers import FullyConnectedLayer, ReLULayer\n",
    "from model import TwoLayerNet\n",
    "from trainer import Trainer, Dataset\n",
    "from optim import SGD, MomentumSGD\n",
    "from metrics import multiclass_accuracy"
   ]
  },
  {
   "cell_type": "markdown",
   "metadata": {},
   "source": [
    "# Загружаем данные\n",
    "\n",
    "И разделяем их на training и validation."
   ]
  },
  {
   "cell_type": "code",
   "execution_count": 3,
   "metadata": {},
   "outputs": [],
   "source": [
    "def prepare_for_neural_network(train_X, test_X):\n",
    "    train_flat = train_X.reshape(train_X.shape[0], -1).astype(np.float) / 255.0\n",
    "    test_flat = test_X.reshape(test_X.shape[0], -1).astype(np.float) / 255.0\n",
    "    \n",
    "    # Subtract mean\n",
    "    mean_image = np.mean(train_flat, axis = 0)\n",
    "    train_flat -= mean_image\n",
    "    test_flat -= mean_image\n",
    "    \n",
    "    return train_flat, test_flat\n",
    "    \n",
    "train_X, train_y, test_X, test_y = load_svhn(\"data\", max_train=10000, max_test=1000)    \n",
    "train_X, test_X = prepare_for_neural_network(train_X, test_X)\n",
    "# Split train into train and val\n",
    "train_X, train_y, val_X, val_y = random_split_train_val(train_X, train_y, num_val = 1000)"
   ]
  },
  {
   "cell_type": "markdown",
   "metadata": {},
   "source": [
    "# Как всегда, начинаем с кирпичиков\n",
    "\n",
    "Мы будем реализовывать необходимые нам слои по очереди. Каждый слой должен реализовать:\n",
    "- прямой проход (forward pass), который генерирует выход слоя по входу и запоминает необходимые данные\n",
    "- обратный проход (backward pass), который получает градиент по выходу слоя и вычисляет градиент по входу и по параметрам\n",
    "\n",
    "Начнем с ReLU, у которого параметров нет."
   ]
  },
  {
   "cell_type": "code",
   "execution_count": 4,
   "metadata": {
    "scrolled": false
   },
   "outputs": [
    {
     "name": "stdout",
     "output_type": "stream",
     "text": [
      "Gradient check passed!\n"
     ]
    }
   ],
   "source": [
    "# TODO: Implement ReLULayer layer in layers.py\n",
    "# Note: you'll need to copy implementation of the gradient_check function from the previous assignment\n",
    "\n",
    "X = np.array([[1,-2,3],\n",
    "              [-1, 2, 0.1]])\n",
    "\n",
    "assert check_layer_gradient(ReLULayer(), X)"
   ]
  },
  {
   "cell_type": "markdown",
   "metadata": {},
   "source": [
    "А теперь реализуем полносвязный слой (fully connected layer), у которого будет два массива параметров: W (weights) и B (bias).\n",
    "\n",
    "Все параметры наши слои будут использовать для параметров специальный класс `Param`, в котором будут храниться значения параметров и градиенты этих параметров, вычисляемые во время обратного прохода.\n",
    "\n",
    "Это даст возможность аккумулировать (суммировать) градиенты из разных частей функции потерь, например, из cross-entropy loss и regularization loss."
   ]
  },
  {
   "cell_type": "code",
   "execution_count": 5,
   "metadata": {},
   "outputs": [
    {
     "name": "stdout",
     "output_type": "stream",
     "text": [
      "Gradient check passed!\n",
      "Gradient check passed!\n",
      "Gradient check passed!\n"
     ]
    }
   ],
   "source": [
    "# TODO: Implement FullyConnected layer forward and backward methods\n",
    "assert check_layer_gradient(FullyConnectedLayer(3, 4), X)\n",
    "# TODO: Implement storing gradients for W and B\n",
    "assert check_layer_param_gradient(FullyConnectedLayer(3, 4), X, 'W')\n",
    "assert check_layer_param_gradient(FullyConnectedLayer(3, 4), X, 'B')"
   ]
  },
  {
   "cell_type": "markdown",
   "metadata": {},
   "source": [
    "## Создаем нейронную сеть\n",
    "\n",
    "Теперь мы реализуем простейшую нейронную сеть с двумя полносвязным слоями и нелинейностью ReLU. Реализуйте функцию `compute_loss_and_gradients`, она должна запустить прямой и обратный проход через оба слоя для вычисления градиентов.\n",
    "\n",
    "Не забудьте реализовать очистку градиентов в начале функции."
   ]
  },
  {
   "cell_type": "code",
   "execution_count": 20,
   "metadata": {},
   "outputs": [
    {
     "name": "stdout",
     "output_type": "stream",
     "text": [
      "Checking gradient for W-1\n",
      "Gradient check passed!\n",
      "Checking gradient for B-1\n",
      "Gradient check passed!\n",
      "Checking gradient for W-2\n",
      "Gradient check passed!\n",
      "Checking gradient for B-2\n",
      "Gradient check passed!\n"
     ]
    },
    {
     "data": {
      "text/plain": [
       "True"
      ]
     },
     "execution_count": 20,
     "metadata": {},
     "output_type": "execute_result"
    }
   ],
   "source": [
    "# TODO: In model.py, implement compute_loss_and_gradients function\n",
    "model = TwoLayerNet(n_input = train_X.shape[1], n_output = 10, hidden_layer_size = 3, reg = 0)\n",
    "loss = model.compute_loss_and_gradients(train_X[:2], train_y[:2])\n",
    "\n",
    "# TODO Now implement backward pass and aggregate all of the params\n",
    "check_model_gradient(model, train_X[:2], train_y[:2])"
   ]
  },
  {
   "cell_type": "markdown",
   "metadata": {},
   "source": [
    "Теперь добавьте к модели регуляризацию - она должна прибавляться к loss и делать свой вклад в градиенты."
   ]
  },
  {
   "cell_type": "code",
   "execution_count": 24,
   "metadata": {},
   "outputs": [
    {
     "name": "stdout",
     "output_type": "stream",
     "text": [
      "Checking gradient for W-1\n",
      "Gradient check passed!\n",
      "Checking gradient for B-1\n",
      "Gradient check passed!\n",
      "Checking gradient for W-2\n",
      "Gradient check passed!\n",
      "Checking gradient for B-2\n",
      "Gradient check passed!\n"
     ]
    },
    {
     "data": {
      "text/plain": [
       "True"
      ]
     },
     "execution_count": 24,
     "metadata": {},
     "output_type": "execute_result"
    }
   ],
   "source": [
    "# TODO Now implement l2 regularization in the forward and backward pass\n",
    "model_with_reg = TwoLayerNet(n_input = train_X.shape[1], n_output = 10, hidden_layer_size = 3, reg = 1e1)\n",
    "loss_with_reg = model_with_reg.compute_loss_and_gradients(train_X[:2], train_y[:2])\n",
    "assert loss_with_reg > loss and not np.isclose(loss_with_reg, loss), \\\n",
    "    \"Loss with regularization (%2.4f) should be higher than without it (%2.4f)!\" % (loss, loss_with_reg)\n",
    "\n",
    "check_model_gradient(model_with_reg, train_X[:2], train_y[:2])"
   ]
  },
  {
   "cell_type": "markdown",
   "metadata": {},
   "source": [
    "Также реализуем функцию предсказания (вычисления значения) модели на новых данных.\n",
    "\n",
    "Какое значение точности мы ожидаем увидеть до начала тренировки?"
   ]
  },
  {
   "cell_type": "code",
   "execution_count": null,
   "metadata": {},
   "outputs": [],
   "source": []
  },
  {
   "cell_type": "code",
   "execution_count": 25,
   "metadata": {},
   "outputs": [
    {
     "data": {
      "text/plain": [
       "0.1"
      ]
     },
     "execution_count": 25,
     "metadata": {},
     "output_type": "execute_result"
    }
   ],
   "source": [
    "# Finally, implement predict function!\n",
    "\n",
    "# TODO: Implement predict function\n",
    "# What would be the value we expect?\n",
    "multiclass_accuracy(model_with_reg.predict(train_X[:30]), train_y[:30]) "
   ]
  },
  {
   "cell_type": "markdown",
   "metadata": {},
   "source": [
    "# Допишем код для процесса тренировки\n",
    "\n",
    "Если все реализовано корректно, значение функции ошибки должно уменьшаться с каждой эпохой, пусть и медленно. Не беспокойтесь пока про validation accuracy."
   ]
  },
  {
   "cell_type": "code",
   "execution_count": 26,
   "metadata": {
    "scrolled": true
   },
   "outputs": [
    {
     "name": "stdout",
     "output_type": "stream",
     "text": [
      "Loss: 2.301968, Train accuracy: 0.196667, val accuracy: 0.206000\n",
      "Loss: 2.301948, Train accuracy: 0.196667, val accuracy: 0.206000\n",
      "Loss: 2.302453, Train accuracy: 0.196667, val accuracy: 0.206000\n",
      "Loss: 2.303271, Train accuracy: 0.196667, val accuracy: 0.206000\n",
      "Loss: 2.302676, Train accuracy: 0.196667, val accuracy: 0.206000\n",
      "Loss: 2.302960, Train accuracy: 0.196667, val accuracy: 0.206000\n",
      "Loss: 2.303598, Train accuracy: 0.196667, val accuracy: 0.206000\n",
      "Loss: 2.302360, Train accuracy: 0.196667, val accuracy: 0.206000\n",
      "Loss: 2.302433, Train accuracy: 0.196667, val accuracy: 0.206000\n",
      "Loss: 2.302893, Train accuracy: 0.196667, val accuracy: 0.206000\n",
      "Loss: 2.302130, Train accuracy: 0.196667, val accuracy: 0.206000\n",
      "Loss: 2.302422, Train accuracy: 0.196667, val accuracy: 0.206000\n",
      "Loss: 2.301031, Train accuracy: 0.196667, val accuracy: 0.206000\n",
      "Loss: 2.302821, Train accuracy: 0.148222, val accuracy: 0.140000\n",
      "Loss: 2.303380, Train accuracy: 0.196667, val accuracy: 0.206000\n",
      "Loss: 2.302890, Train accuracy: 0.148222, val accuracy: 0.140000\n",
      "Loss: 2.302380, Train accuracy: 0.114222, val accuracy: 0.147000\n",
      "Loss: 2.302563, Train accuracy: 0.114222, val accuracy: 0.147000\n",
      "Loss: 2.302338, Train accuracy: 0.196667, val accuracy: 0.206000\n",
      "Loss: 2.302295, Train accuracy: 0.148222, val accuracy: 0.140000\n"
     ]
    }
   ],
   "source": [
    "model = TwoLayerNet(n_input = train_X.shape[1], n_output = 10, hidden_layer_size = 100, reg = 1e1)\n",
    "dataset = Dataset(train_X, train_y, val_X, val_y)\n",
    "trainer = Trainer(model, dataset, SGD(), learning_rate = 1e-2)\n",
    "\n",
    "# TODO Implement missing pieces in Trainer.fit function\n",
    "# You should expect loss to go down every epoch, even if it's slow\n",
    "loss_history, train_history, val_history = trainer.fit()"
   ]
  },
  {
   "cell_type": "code",
   "execution_count": 30,
   "metadata": {
    "scrolled": false
   },
   "outputs": [
    {
     "data": {
      "text/plain": [
       "[<matplotlib.lines.Line2D at 0x23538815e10>]"
      ]
     },
     "execution_count": 30,
     "metadata": {},
     "output_type": "execute_result"
    },
    {
     "data": {
      "image/png": "[encoded data removed]",
      "text/plain": [
       "<Figure size 432x288 with 1 Axes>"
      ]
     },
     "metadata": {
      "needs_background": "light"
     },
     "output_type": "display_data"
    }
   ],
   "source": [
    "plt.plot(train_history)\n",
    "plt.plot(val_history)"
   ]
  },
  {
   "cell_type": "markdown",
   "metadata": {},
   "source": [
    "# Улучшаем процесс тренировки\n",
    "\n",
    "Мы реализуем несколько ключевых оптимизаций, необходимых для тренировки современных нейросетей."
   ]
  },
  {
   "cell_type": "markdown",
   "metadata": {},
   "source": [
    "## Уменьшение скорости обучения (learning rate decay)\n",
    "\n",
    "Одна из необходимых оптимизаций во время тренировки нейронных сетей - постепенное уменьшение скорости обучения по мере тренировки.\n",
    "\n",
    "Один из стандартных методов - уменьшение скорости обучения (learning rate) каждые N эпох на коэффициент d (часто называемый decay). Значения N и d, как всегда, являются гиперпараметрами и должны подбираться на основе эффективности на проверочных данных (validation data). \n",
    "\n",
    "В нашем случае N будет равным 1."
   ]
  },
  {
   "cell_type": "code",
   "execution_count": 32,
   "metadata": {},
   "outputs": [
    {
     "name": "stdout",
     "output_type": "stream",
     "text": [
      "Loss: 2.299105, Train accuracy: 0.196667, val accuracy: 0.206000\n",
      "Loss: 2.278326, Train accuracy: 0.196667, val accuracy: 0.206000\n",
      "Loss: 2.275751, Train accuracy: 0.196667, val accuracy: 0.206000\n",
      "Loss: 2.275156, Train accuracy: 0.196667, val accuracy: 0.206000\n",
      "Loss: 2.274574, Train accuracy: 0.196667, val accuracy: 0.206000\n",
      "Loss: 2.273708, Train accuracy: 0.196667, val accuracy: 0.206000\n",
      "Loss: 2.272808, Train accuracy: 0.196667, val accuracy: 0.206000\n",
      "Loss: 2.272191, Train accuracy: 0.196667, val accuracy: 0.206000\n",
      "Loss: 2.271801, Train accuracy: 0.196667, val accuracy: 0.206000\n",
      "Loss: 2.271684, Train accuracy: 0.196667, val accuracy: 0.206000\n"
     ]
    }
   ],
   "source": [
    "# TODO Implement learning rate decay inside Trainer.fit method\n",
    "# Decay should happen once per epoch\n",
    "\n",
    "model = TwoLayerNet(n_input = train_X.shape[1], n_output = 10, hidden_layer_size = 100, reg = 1e-1)\n",
    "dataset = Dataset(train_X, train_y, val_X, val_y)\n",
    "trainer = Trainer(model, dataset, SGD(), learning_rate_decay=0.99)\n",
    "\n",
    "initial_learning_rate = trainer.learning_rate\n",
    "loss_history, train_history, val_history = trainer.fit()\n",
    "\n",
    "assert trainer.learning_rate < initial_learning_rate, \"Learning rate should've been reduced\"\n",
    "assert trainer.learning_rate > 0.5*initial_learning_rate, \"Learning rate shouldn'tve been reduced that much!\""
   ]
  },
  {
   "cell_type": "markdown",
   "metadata": {},
   "source": [
    "# Накопление импульса (Momentum SGD)\n",
    "\n",
    "Другой большой класс оптимизаций - использование более эффективных методов градиентного спуска. Мы реализуем один из них - накопление импульса (Momentum SGD).\n",
    "\n",
    "Этот метод хранит скорость движения, использует градиент для ее изменения на каждом шаге, и изменяет веса пропорционально значению скорости.\n",
    "(Физическая аналогия: Вместо скорости градиенты теперь будут задавать ускорение, но будет присутствовать сила трения.)\n",
    "\n",
    "```\n",
    "velocity = momentum * velocity - learning_rate * gradient \n",
    "w = w + velocity\n",
    "```\n",
    "\n",
    "`momentum` здесь коэффициент затухания, который тоже является гиперпараметром (к счастью, для него часто есть хорошее значение по умолчанию, типичный диапазон -- 0.8-0.99).\n",
    "\n",
    "Несколько полезных ссылок, где метод разбирается более подробно:  \n",
    "http://cs231n.github.io/neural-networks-3/#sgd  \n",
    "https://distill.pub/2017/momentum/"
   ]
  },
  {
   "cell_type": "code",
   "execution_count": 34,
   "metadata": {},
   "outputs": [
    {
     "name": "stdout",
     "output_type": "stream",
     "text": [
      "Loss: 2.327683, Train accuracy: 0.196667, val accuracy: 0.206000\n",
      "Loss: 2.317233, Train accuracy: 0.196667, val accuracy: 0.206000\n",
      "Loss: 2.308996, Train accuracy: 0.196667, val accuracy: 0.206000\n",
      "Loss: 2.302489, Train accuracy: 0.196667, val accuracy: 0.206000\n",
      "Loss: 2.297326, Train accuracy: 0.196667, val accuracy: 0.206000\n",
      "Loss: 2.293216, Train accuracy: 0.196667, val accuracy: 0.206000\n",
      "Loss: 2.289931, Train accuracy: 0.196667, val accuracy: 0.206000\n",
      "Loss: 2.287290, Train accuracy: 0.196667, val accuracy: 0.206000\n",
      "Loss: 2.285163, Train accuracy: 0.196667, val accuracy: 0.206000\n",
      "Loss: 2.283444, Train accuracy: 0.196667, val accuracy: 0.206000\n"
     ]
    }
   ],
   "source": [
    "# TODO: Implement MomentumSGD.update function in optim.py\n",
    "\n",
    "model = TwoLayerNet(n_input = train_X.shape[1], n_output = 10, hidden_layer_size = 100, reg = 1e-1)\n",
    "dataset = Dataset(train_X, train_y, val_X, val_y)\n",
    "trainer = Trainer(model, dataset, MomentumSGD(), learning_rate=1e-4, learning_rate_decay=0.99)\n",
    "\n",
    "# You should see even better results than before!\n",
    "loss_history, train_history, val_history = trainer.fit()"
   ]
  },
  {
   "cell_type": "markdown",
   "metadata": {},
   "source": [
    "# Ну что, давайте уже тренировать сеть!"
   ]
  },
  {
   "cell_type": "markdown",
   "metadata": {},
   "source": [
    "## Последний тест - переобучимся (overfit) на маленьком наборе данных\n",
    "\n",
    "Хороший способ проверить, все ли реализовано корректно - переобучить сеть на маленьком наборе данных.  \n",
    "Наша модель обладает достаточной мощностью, чтобы приблизить маленький набор данных идеально, поэтому мы ожидаем, что на нем мы быстро дойдем до 100% точности на тренировочном наборе. \n",
    "\n",
    "Если этого не происходит, то где-то была допущена ошибка!"
   ]
  },
  {
   "cell_type": "code",
   "execution_count": 35,
   "metadata": {
    "scrolled": true
   },
   "outputs": [
    {
     "name": "stdout",
     "output_type": "stream",
     "text": [
      "Loss: 2.335450, Train accuracy: 0.200000, val accuracy: 0.066667\n",
      "Loss: 2.320691, Train accuracy: 0.200000, val accuracy: 0.066667\n",
      "Loss: 2.309209, Train accuracy: 0.333333, val accuracy: 0.066667\n",
      "Loss: 2.300474, Train accuracy: 0.266667, val accuracy: 0.000000\n",
      "Loss: 2.289562, Train accuracy: 0.266667, val accuracy: 0.000000\n",
      "Loss: 2.277618, Train accuracy: 0.266667, val accuracy: 0.000000\n",
      "Loss: 2.269571, Train accuracy: 0.266667, val accuracy: 0.000000\n",
      "Loss: 2.243243, Train accuracy: 0.266667, val accuracy: 0.000000\n",
      "Loss: 2.206660, Train accuracy: 0.266667, val accuracy: 0.000000\n",
      "Loss: 2.141708, Train accuracy: 0.400000, val accuracy: 0.000000\n",
      "Loss: 2.071649, Train accuracy: 0.400000, val accuracy: 0.000000\n",
      "Loss: 2.007283, Train accuracy: 0.400000, val accuracy: 0.000000\n",
      "Loss: 1.982125, Train accuracy: 0.400000, val accuracy: 0.000000\n",
      "Loss: 1.966656, Train accuracy: 0.333333, val accuracy: 0.000000\n",
      "Loss: 1.872954, Train accuracy: 0.333333, val accuracy: 0.000000\n",
      "Loss: 1.861067, Train accuracy: 0.333333, val accuracy: 0.000000\n",
      "Loss: 1.817969, Train accuracy: 0.400000, val accuracy: 0.000000\n",
      "Loss: 1.806246, Train accuracy: 0.400000, val accuracy: 0.000000\n",
      "Loss: 1.828499, Train accuracy: 0.400000, val accuracy: 0.000000\n",
      "Loss: 1.793850, Train accuracy: 0.400000, val accuracy: 0.000000\n",
      "Loss: 1.815743, Train accuracy: 0.400000, val accuracy: 0.000000\n",
      "Loss: 1.801699, Train accuracy: 0.400000, val accuracy: 0.000000\n",
      "Loss: 1.797599, Train accuracy: 0.400000, val accuracy: 0.000000\n",
      "Loss: 1.798210, Train accuracy: 0.466667, val accuracy: 0.000000\n",
      "Loss: 1.744224, Train accuracy: 0.466667, val accuracy: 0.000000\n",
      "Loss: 1.736357, Train accuracy: 0.466667, val accuracy: 0.000000\n",
      "Loss: 1.703573, Train accuracy: 0.533333, val accuracy: 0.066667\n",
      "Loss: 1.679400, Train accuracy: 0.466667, val accuracy: 0.000000\n",
      "Loss: 1.709063, Train accuracy: 0.466667, val accuracy: 0.066667\n",
      "Loss: 1.661448, Train accuracy: 0.533333, val accuracy: 0.066667\n",
      "Loss: 1.709268, Train accuracy: 0.466667, val accuracy: 0.000000\n",
      "Loss: 1.673934, Train accuracy: 0.600000, val accuracy: 0.066667\n",
      "Loss: 1.609964, Train accuracy: 0.600000, val accuracy: 0.066667\n",
      "Loss: 1.607973, Train accuracy: 0.666667, val accuracy: 0.066667\n",
      "Loss: 1.648686, Train accuracy: 0.666667, val accuracy: 0.000000\n",
      "Loss: 1.604307, Train accuracy: 0.533333, val accuracy: 0.066667\n",
      "Loss: 1.592515, Train accuracy: 0.666667, val accuracy: 0.066667\n",
      "Loss: 1.557353, Train accuracy: 0.666667, val accuracy: 0.066667\n",
      "Loss: 1.605658, Train accuracy: 0.666667, val accuracy: 0.000000\n",
      "Loss: 1.592707, Train accuracy: 0.666667, val accuracy: 0.000000\n",
      "Loss: 1.542193, Train accuracy: 0.666667, val accuracy: 0.066667\n",
      "Loss: 1.512313, Train accuracy: 0.666667, val accuracy: 0.066667\n",
      "Loss: 1.516636, Train accuracy: 0.666667, val accuracy: 0.066667\n",
      "Loss: 1.494815, Train accuracy: 0.733333, val accuracy: 0.066667\n",
      "Loss: 1.523298, Train accuracy: 0.666667, val accuracy: 0.000000\n",
      "Loss: 1.492830, Train accuracy: 0.666667, val accuracy: 0.000000\n",
      "Loss: 1.471197, Train accuracy: 0.600000, val accuracy: 0.066667\n",
      "Loss: 1.461580, Train accuracy: 0.733333, val accuracy: 0.066667\n",
      "Loss: 1.425023, Train accuracy: 0.733333, val accuracy: 0.066667\n",
      "Loss: 1.441079, Train accuracy: 0.733333, val accuracy: 0.066667\n",
      "Loss: 1.427581, Train accuracy: 0.733333, val accuracy: 0.066667\n",
      "Loss: 1.428610, Train accuracy: 0.733333, val accuracy: 0.133333\n",
      "Loss: 1.438640, Train accuracy: 0.666667, val accuracy: 0.000000\n",
      "Loss: 1.434142, Train accuracy: 0.733333, val accuracy: 0.066667\n",
      "Loss: 1.405889, Train accuracy: 0.733333, val accuracy: 0.066667\n",
      "Loss: 1.406297, Train accuracy: 0.733333, val accuracy: 0.066667\n",
      "Loss: 1.392069, Train accuracy: 0.733333, val accuracy: 0.066667\n",
      "Loss: 1.396011, Train accuracy: 0.733333, val accuracy: 0.066667\n",
      "Loss: 1.385923, Train accuracy: 0.733333, val accuracy: 0.066667\n",
      "Loss: 1.380195, Train accuracy: 0.733333, val accuracy: 0.066667\n",
      "Loss: 1.388747, Train accuracy: 0.733333, val accuracy: 0.066667\n",
      "Loss: 1.387458, Train accuracy: 0.733333, val accuracy: 0.066667\n",
      "Loss: 1.384166, Train accuracy: 0.733333, val accuracy: 0.066667\n",
      "Loss: 1.380009, Train accuracy: 0.733333, val accuracy: 0.066667\n",
      "Loss: 1.377295, Train accuracy: 0.733333, val accuracy: 0.066667\n",
      "Loss: 1.389292, Train accuracy: 0.733333, val accuracy: 0.066667\n",
      "Loss: 1.385910, Train accuracy: 0.733333, val accuracy: 0.066667\n",
      "Loss: 1.393520, Train accuracy: 0.733333, val accuracy: 0.066667\n",
      "Loss: 1.367927, Train accuracy: 0.733333, val accuracy: 0.066667\n",
      "Loss: 1.380320, Train accuracy: 0.733333, val accuracy: 0.066667\n",
      "Loss: 1.389704, Train accuracy: 0.733333, val accuracy: 0.066667\n",
      "Loss: 1.368960, Train accuracy: 0.733333, val accuracy: 0.066667\n",
      "Loss: 1.369545, Train accuracy: 0.733333, val accuracy: 0.066667\n",
      "Loss: 1.368174, Train accuracy: 0.733333, val accuracy: 0.066667\n",
      "Loss: 1.356061, Train accuracy: 0.866667, val accuracy: 0.066667\n",
      "Loss: 1.380721, Train accuracy: 0.866667, val accuracy: 0.066667\n",
      "Loss: 1.375191, Train accuracy: 0.866667, val accuracy: 0.066667\n",
      "Loss: 1.364336, Train accuracy: 0.933333, val accuracy: 0.066667\n",
      "Loss: 1.356912, Train accuracy: 0.933333, val accuracy: 0.066667\n",
      "Loss: 1.352131, Train accuracy: 0.933333, val accuracy: 0.066667\n",
      "Loss: 1.370292, Train accuracy: 0.933333, val accuracy: 0.066667\n",
      "Loss: 1.376261, Train accuracy: 0.866667, val accuracy: 0.066667\n",
      "Loss: 1.413434, Train accuracy: 0.866667, val accuracy: 0.066667\n",
      "Loss: 1.367026, Train accuracy: 0.933333, val accuracy: 0.066667\n",
      "Loss: 1.354356, Train accuracy: 0.933333, val accuracy: 0.066667\n",
      "Loss: 1.367706, Train accuracy: 0.933333, val accuracy: 0.066667\n",
      "Loss: 1.345922, Train accuracy: 0.933333, val accuracy: 0.066667\n",
      "Loss: 1.339535, Train accuracy: 0.933333, val accuracy: 0.066667\n",
      "Loss: 1.341672, Train accuracy: 0.933333, val accuracy: 0.066667\n",
      "Loss: 1.357977, Train accuracy: 0.933333, val accuracy: 0.066667\n",
      "Loss: 1.332638, Train accuracy: 0.933333, val accuracy: 0.066667\n",
      "Loss: 1.329894, Train accuracy: 0.933333, val accuracy: 0.066667\n",
      "Loss: 1.330635, Train accuracy: 0.933333, val accuracy: 0.066667\n",
      "Loss: 1.328368, Train accuracy: 0.933333, val accuracy: 0.066667\n",
      "Loss: 1.346031, Train accuracy: 0.933333, val accuracy: 0.066667\n",
      "Loss: 1.348160, Train accuracy: 0.933333, val accuracy: 0.066667\n",
      "Loss: 1.329414, Train accuracy: 0.933333, val accuracy: 0.066667\n",
      "Loss: 1.317379, Train accuracy: 0.933333, val accuracy: 0.066667\n",
      "Loss: 1.322997, Train accuracy: 0.933333, val accuracy: 0.066667\n",
      "Loss: 1.332218, Train accuracy: 0.933333, val accuracy: 0.066667\n",
      "Loss: 1.331902, Train accuracy: 0.933333, val accuracy: 0.066667\n",
      "Loss: 1.308557, Train accuracy: 0.933333, val accuracy: 0.000000\n",
      "Loss: 1.313178, Train accuracy: 0.933333, val accuracy: 0.066667\n",
      "Loss: 1.296526, Train accuracy: 0.933333, val accuracy: 0.000000\n",
      "Loss: 1.305890, Train accuracy: 0.933333, val accuracy: 0.000000\n",
      "Loss: 1.296320, Train accuracy: 0.933333, val accuracy: 0.000000\n",
      "Loss: 1.286484, Train accuracy: 0.933333, val accuracy: 0.000000\n",
      "Loss: 1.286949, Train accuracy: 0.933333, val accuracy: 0.000000\n",
      "Loss: 1.290451, Train accuracy: 0.933333, val accuracy: 0.000000\n",
      "Loss: 1.282916, Train accuracy: 0.933333, val accuracy: 0.000000\n",
      "Loss: 1.279153, Train accuracy: 0.933333, val accuracy: 0.000000\n",
      "Loss: 1.309619, Train accuracy: 0.933333, val accuracy: 0.000000\n",
      "Loss: 1.324289, Train accuracy: 0.933333, val accuracy: 0.000000\n",
      "Loss: 1.279906, Train accuracy: 0.933333, val accuracy: 0.000000\n",
      "Loss: 1.278616, Train accuracy: 1.000000, val accuracy: 0.000000\n",
      "Loss: 1.288495, Train accuracy: 0.933333, val accuracy: 0.000000\n",
      "Loss: 1.272283, Train accuracy: 1.000000, val accuracy: 0.000000\n",
      "Loss: 1.270933, Train accuracy: 1.000000, val accuracy: 0.000000\n",
      "Loss: 1.266819, Train accuracy: 1.000000, val accuracy: 0.000000\n",
      "Loss: 1.272139, Train accuracy: 1.000000, val accuracy: 0.000000\n",
      "Loss: 1.300793, Train accuracy: 1.000000, val accuracy: 0.000000\n",
      "Loss: 1.278635, Train accuracy: 0.933333, val accuracy: 0.000000\n",
      "Loss: 1.270867, Train accuracy: 1.000000, val accuracy: 0.000000\n",
      "Loss: 1.257142, Train accuracy: 1.000000, val accuracy: 0.000000\n",
      "Loss: 1.273487, Train accuracy: 0.933333, val accuracy: 0.000000\n",
      "Loss: 1.263911, Train accuracy: 1.000000, val accuracy: 0.000000\n",
      "Loss: 1.257519, Train accuracy: 1.000000, val accuracy: 0.000000\n",
      "Loss: 1.254517, Train accuracy: 1.000000, val accuracy: 0.000000\n",
      "Loss: 1.288766, Train accuracy: 1.000000, val accuracy: 0.000000\n",
      "Loss: 1.324259, Train accuracy: 0.933333, val accuracy: 0.000000\n"
     ]
    },
    {
     "name": "stdout",
     "output_type": "stream",
     "text": [
      "Loss: 1.272624, Train accuracy: 1.000000, val accuracy: 0.000000\n",
      "Loss: 1.272314, Train accuracy: 1.000000, val accuracy: 0.000000\n",
      "Loss: 1.275690, Train accuracy: 1.000000, val accuracy: 0.000000\n",
      "Loss: 1.265574, Train accuracy: 1.000000, val accuracy: 0.000000\n",
      "Loss: 1.269452, Train accuracy: 1.000000, val accuracy: 0.000000\n",
      "Loss: 1.297819, Train accuracy: 1.000000, val accuracy: 0.000000\n",
      "Loss: 1.271918, Train accuracy: 1.000000, val accuracy: 0.000000\n",
      "Loss: 1.258956, Train accuracy: 1.000000, val accuracy: 0.000000\n",
      "Loss: 1.252123, Train accuracy: 1.000000, val accuracy: 0.000000\n",
      "Loss: 1.273934, Train accuracy: 1.000000, val accuracy: 0.000000\n",
      "Loss: 1.279182, Train accuracy: 1.000000, val accuracy: 0.000000\n",
      "Loss: 1.260598, Train accuracy: 1.000000, val accuracy: 0.000000\n",
      "Loss: 1.255954, Train accuracy: 1.000000, val accuracy: 0.000000\n",
      "Loss: 1.257909, Train accuracy: 1.000000, val accuracy: 0.000000\n",
      "Loss: 1.266019, Train accuracy: 1.000000, val accuracy: 0.000000\n",
      "Loss: 1.250099, Train accuracy: 1.000000, val accuracy: 0.000000\n",
      "Loss: 1.272873, Train accuracy: 1.000000, val accuracy: 0.000000\n",
      "Loss: 1.261306, Train accuracy: 1.000000, val accuracy: 0.000000\n",
      "Loss: 1.266403, Train accuracy: 1.000000, val accuracy: 0.000000\n",
      "Loss: 1.250456, Train accuracy: 1.000000, val accuracy: 0.000000\n"
     ]
    }
   ],
   "source": [
    "data_size = 15\n",
    "model = TwoLayerNet(n_input = train_X.shape[1], n_output = 10, hidden_layer_size = 100, reg = 1e-1)\n",
    "dataset = Dataset(train_X[:data_size], train_y[:data_size], val_X[:data_size], val_y[:data_size])\n",
    "trainer = Trainer(model, dataset, SGD(), learning_rate=1e-1, num_epochs=150, batch_size=5)\n",
    "\n",
    "# You should expect this to reach 1.0 training accuracy \n",
    "loss_history, train_history, val_history = trainer.fit()"
   ]
  },
  {
   "cell_type": "code",
   "execution_count": 36,
   "metadata": {},
   "outputs": [
    {
     "data": {
      "text/plain": [
       "[<matplotlib.lines.Line2D at 0x2354e08af28>]"
      ]
     },
     "execution_count": 36,
     "metadata": {},
     "output_type": "execute_result"
    },
    {
     "data": {
      "image/png": "[encoded data removed]",
      "text/plain": [
       "<Figure size 432x288 with 1 Axes>"
      ]
     },
     "metadata": {
      "needs_background": "light"
     },
     "output_type": "display_data"
    }
   ],
   "source": [
    "plt.plot(loss_history)"
   ]
  },
  {
   "cell_type": "markdown",
   "metadata": {},
   "source": [
    "Теперь найдем гипепараметры, для которых этот процесс сходится быстрее.\n",
    "Если все реализовано корректно, то существуют параметры, при которых процесс сходится в **20** эпох или еще быстрее.\n",
    "Найдите их!"
   ]
  },
  {
   "cell_type": "code",
   "execution_count": null,
   "metadata": {},
   "outputs": [],
   "source": [
    "# Now, tweak some hyper parameters and make it train to 1.0 accuracy in 20 epochs or less\n",
    "def keywithmaxval(d):\n",
    "    '''     \n",
    "    a) create a list of the dict's keys and values; \n",
    "    b) return the key with the max value\n",
    "    '''\n",
    "    v = list(d.values())\n",
    "    k = list(d.keys())\n",
    "    return k[v.index(max(v))]\n",
    "\n",
    "learning_rates = [1e-1, 1e-2, 1e-3, 1e-4]\n",
    "reg_strengths = [1e-1, 1e-2, 1e-3, 1e-4, 1e-5, 1e-6]\n",
    "l_r_to_accuracy = {}\n",
    "\n",
    "for l in learning_rates:\n",
    "    for r in reg_strengths:\n",
    "\n",
    "        model = TwoLayerNet(n_input = train_X.shape[1], n_output = 10, hidden_layer_size = 100, reg = r)\n",
    "        dataset = Dataset(train_X[:data_size], train_y[:data_size], val_X[:data_size], val_y[:data_size])\n",
    "        # TODO: Change any hyperparamers or optimizators to reach training accuracy in 20 epochs\n",
    "        trainer = Trainer(model, dataset, MomentumSGD(), learning_rate=l, learning_rate_decay=0.97, num_epochs=20, batch_size=5)\n",
    "\n",
    "        loss_history, train_history, val_history = trainer.fit()\n",
    "        l_r_to_accuracy[str(l) + ', ' + str(r)] = np.average(train_history)\n",
    "\n",
    "key_of_best = keywithmaxval(l_r_to_accuracy)\n",
    "print(keywithmaxval(l_r_to_accuracy), ' accuracy is ', (l_r_to_accuracy[key_of_best]))"
   ]
  },
  {
   "cell_type": "markdown",
   "metadata": {},
   "source": [
    "# Итак, основное мероприятие!\n",
    "\n",
    "Натренируйте лучшую нейросеть! Можно добавлять и изменять параметры, менять количество нейронов в слоях сети и как угодно экспериментировать. \n",
    "\n",
    "Добейтесь точности лучше **60%** на validation set."
   ]
  },
  {
   "cell_type": "code",
   "execution_count": 40,
   "metadata": {
    "scrolled": true
   },
   "outputs": [
    {
     "name": "stdout",
     "output_type": "stream",
     "text": [
      "Loss: 2.155419, Train accuracy: 0.323556, val accuracy: 0.327000\n",
      "Loss: 1.686660, Train accuracy: 0.525444, val accuracy: 0.515000\n",
      "Loss: 1.577587, Train accuracy: 0.583333, val accuracy: 0.563000\n",
      "Loss: 1.262616, Train accuracy: 0.654333, val accuracy: 0.623000\n",
      "Loss: 1.156276, Train accuracy: 0.654889, val accuracy: 0.634000\n",
      "Loss: 1.108657, Train accuracy: 0.675000, val accuracy: 0.631000\n",
      "Loss: 1.012785, Train accuracy: 0.708333, val accuracy: 0.646000\n",
      "Loss: 0.932605, Train accuracy: 0.732444, val accuracy: 0.673000\n",
      "Loss: 0.874449, Train accuracy: 0.746556, val accuracy: 0.664000\n",
      "Loss: 0.858742, Train accuracy: 0.722444, val accuracy: 0.680000\n",
      "Loss: 0.804776, Train accuracy: 0.798333, val accuracy: 0.705000\n",
      "Loss: 0.748913, Train accuracy: 0.777556, val accuracy: 0.705000\n",
      "Loss: 0.703203, Train accuracy: 0.814000, val accuracy: 0.720000\n",
      "Loss: 0.652840, Train accuracy: 0.781333, val accuracy: 0.693000\n",
      "Loss: 0.638339, Train accuracy: 0.838444, val accuracy: 0.722000\n",
      "Loss: 0.547799, Train accuracy: 0.838556, val accuracy: 0.725000\n",
      "Loss: 0.576349, Train accuracy: 0.858000, val accuracy: 0.737000\n",
      "Loss: 0.499129, Train accuracy: 0.851556, val accuracy: 0.716000\n",
      "Loss: 0.520634, Train accuracy: 0.847111, val accuracy: 0.707000\n",
      "Loss: 0.485585, Train accuracy: 0.867556, val accuracy: 0.730000\n",
      "Loss: 0.431213, Train accuracy: 0.873222, val accuracy: 0.732000\n",
      "Loss: 0.414173, Train accuracy: 0.894444, val accuracy: 0.745000\n",
      "Loss: 0.401230, Train accuracy: 0.890222, val accuracy: 0.743000\n",
      "Loss: 0.377059, Train accuracy: 0.901111, val accuracy: 0.741000\n",
      "Loss: 0.351144, Train accuracy: 0.906778, val accuracy: 0.745000\n",
      "Loss: 0.303535, Train accuracy: 0.922667, val accuracy: 0.750000\n",
      "Loss: 0.306645, Train accuracy: 0.908000, val accuracy: 0.730000\n",
      "Loss: 0.291981, Train accuracy: 0.916222, val accuracy: 0.743000\n",
      "Loss: 0.318400, Train accuracy: 0.927444, val accuracy: 0.750000\n",
      "Loss: 0.239133, Train accuracy: 0.940889, val accuracy: 0.743000\n",
      "Loss: 0.237651, Train accuracy: 0.939667, val accuracy: 0.742000\n",
      "Loss: 0.227034, Train accuracy: 0.941111, val accuracy: 0.741000\n",
      "Loss: 0.194294, Train accuracy: 0.938556, val accuracy: 0.743000\n",
      "Loss: 0.206229, Train accuracy: 0.918333, val accuracy: 0.720000\n",
      "Loss: 0.213220, Train accuracy: 0.950444, val accuracy: 0.743000\n",
      "Loss: 0.178306, Train accuracy: 0.959111, val accuracy: 0.739000\n",
      "Loss: 0.159358, Train accuracy: 0.961222, val accuracy: 0.747000\n",
      "Loss: 0.166447, Train accuracy: 0.952111, val accuracy: 0.743000\n",
      "Loss: 0.145118, Train accuracy: 0.962778, val accuracy: 0.747000\n",
      "Loss: 0.146225, Train accuracy: 0.963000, val accuracy: 0.756000\n",
      "Loss: 0.136621, Train accuracy: 0.964556, val accuracy: 0.746000\n",
      "Loss: 0.135509, Train accuracy: 0.965000, val accuracy: 0.747000\n",
      "Loss: 0.123907, Train accuracy: 0.975222, val accuracy: 0.744000\n",
      "Loss: 0.107753, Train accuracy: 0.977667, val accuracy: 0.760000\n",
      "Loss: 0.106350, Train accuracy: 0.977222, val accuracy: 0.752000\n",
      "Loss: 0.099572, Train accuracy: 0.978889, val accuracy: 0.758000\n",
      "Loss: 0.089495, Train accuracy: 0.985111, val accuracy: 0.754000\n",
      "Loss: 0.079966, Train accuracy: 0.985778, val accuracy: 0.755000\n",
      "Loss: 0.077366, Train accuracy: 0.982889, val accuracy: 0.752000\n",
      "Loss: 0.078502, Train accuracy: 0.988222, val accuracy: 0.753000\n",
      "best validation accuracy achieved: 0.709600\n"
     ]
    }
   ],
   "source": [
    "# Let's train the best one-hidden-layer network we can\n",
    "\n",
    "learning_rates = 1e-4\n",
    "reg_strength = 1e-3\n",
    "learning_rate_decay = 0.999\n",
    "hidden_layer_size = 128\n",
    "num_epochs = 200\n",
    "batch_size = 64\n",
    "\n",
    "best_classifier = None\n",
    "best_val_accuracy = None\n",
    "\n",
    "loss_history = []\n",
    "train_history = []\n",
    "val_history = []\n",
    "\n",
    "best_classifier = TwoLayerNet(n_input = train_X.shape[1], n_output = 10, hidden_layer_size = 110, reg = 1e-6)\n",
    "dataset = Dataset(train_X, train_y, val_X, val_y)\n",
    "best_trainer = Trainer(best_classifier, dataset, MomentumSGD(), learning_rate=1e-1, learning_rate_decay=0.97, num_epochs=50, batch_size=64)\n",
    "loss_history, train_history, val_history = best_trainer.fit()\n",
    "\n",
    "best_val_accuracy = np.average(val_history)\n",
    "\n",
    "\n",
    "# TODO find the best hyperparameters to train the network\n",
    "# Don't hesitate to add new values to the arrays above, perform experiments, use any tricks you want\n",
    "# You should expect to get to at least 40% of valudation accuracy\n",
    "# Save loss/train/history of the best classifier to the variables above\n",
    "\n",
    "print('best validation accuracy achieved: %f' % best_val_accuracy)"
   ]
  },
  {
   "cell_type": "code",
   "execution_count": 41,
   "metadata": {},
   "outputs": [
    {
     "data": {
      "text/plain": [
       "[<matplotlib.lines.Line2D at 0x2354d995fd0>]"
      ]
     },
     "execution_count": 41,
     "metadata": {},
     "output_type": "execute_result"
    },
    {
     "data": {
      "image/png": "[encoded data removed]",
      "text/plain": [
       "<Figure size 1080x504 with 2 Axes>"
      ]
     },
     "metadata": {
      "needs_background": "light"
     },
     "output_type": "display_data"
    }
   ],
   "source": [
    "plt.figure(figsize=(15, 7))\n",
    "plt.subplot(211)\n",
    "plt.title(\"Loss\")\n",
    "plt.plot(loss_history)\n",
    "plt.subplot(212)\n",
    "plt.title(\"Train/validation accuracy\")\n",
    "plt.plot(train_history)\n",
    "plt.plot(val_history)"
   ]
  },
  {
   "cell_type": "markdown",
   "metadata": {},
   "source": [
    "# Как обычно, посмотрим, как наша лучшая модель работает на тестовых данных"
   ]
  },
  {
   "cell_type": "code",
   "execution_count": 42,
   "metadata": {},
   "outputs": [
    {
     "name": "stdout",
     "output_type": "stream",
     "text": [
      "Neural net test set accuracy: 0.739000\n"
     ]
    }
   ],
   "source": [
    "test_pred = best_classifier.predict(test_X)\n",
    "test_accuracy = multiclass_accuracy(test_pred, test_y)\n",
    "print('Neural net test set accuracy: %f' % (test_accuracy, ))"
   ]
  },
  {
   "cell_type": "code",
   "execution_count": null,
   "metadata": {},
   "outputs": [],
   "source": []
  }
 ],
 "metadata": {
  "kernelspec": {
   "display_name": "Python 3",
   "language": "python",
   "name": "python3"
  },
  "language_info": {
   "codemirror_mode": {
    "name": "ipython",
    "version": 3
   },
   "file_extension": ".py",
   "mimetype": "text/x-python",
   "name": "python",
   "nbconvert_exporter": "python",
   "pygments_lexer": "ipython3",
   "version": "3.7.1"
  }
 },
 "nbformat": 4,
 "nbformat_minor": 2
}
